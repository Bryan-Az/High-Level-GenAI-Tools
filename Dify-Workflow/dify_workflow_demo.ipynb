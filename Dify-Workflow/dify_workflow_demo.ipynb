{
 "cells": [
  {
   "cell_type": "code",
   "execution_count": 6,
   "metadata": {
    "vscode": {
     "languageId": "markdown"
    }
   },
   "outputs": [
    {
     "data": {
      "text/plain": [
       "True"
      ]
     },
     "execution_count": 6,
     "metadata": {},
     "output_type": "execute_result"
    }
   ],
   "source": [
    "import requests\n",
    "import json\n",
    "from dotenv import load_dotenv\n",
    "import os\n",
    "load_dotenv()\n"
   ]
  },
  {
   "cell_type": "markdown",
   "metadata": {},
   "source": [
    "## Dify's Retrieval Augmented Generation Engine API"
   ]
  },
  {
   "cell_type": "code",
   "execution_count": null,
   "metadata": {
    "vscode": {
     "languageId": "markdown"
    }
   },
   "outputs": [],
   "source": []
  },
  {
   "cell_type": "markdown",
   "metadata": {},
   "source": [
    "## Dify's Workflow API"
   ]
  },
  {
   "cell_type": "code",
   "execution_count": 14,
   "metadata": {
    "vscode": {
     "languageId": "markdown"
    }
   },
   "outputs": [
    {
     "name": "stdout",
     "output_type": "stream",
     "text": [
      "{\"task_id\": \"6f15be60-73dc-447c-b61f-2843af2f3328\", \"workflow_run_id\": \"1c8d7582-582f-40a7-8381-4d96e9dfcacc\", \"data\": {\"id\": \"1c8d7582-582f-40a7-8381-4d96e9dfcacc\", \"workflow_id\": \"2dd49a0c-55b4-4839-b9ce-b430ac935eff\", \"status\": \"succeeded\", \"outputs\": {\"final\": \"\\u8fd9\\u662f\\u4e00\\u672c\\u513f\\u7ae5\\u4e66\\u3002\"}, \"error\": null, \"elapsed_time\": 10.814749629002108, \"total_tokens\": 2801, \"total_steps\": 8, \"created_at\": 1725491435, \"finished_at\": 1725491441}}\n"
     ]
    }
   ],
   "source": [
    "url = \"http://localhost/v1/workflows/run\"\n",
    "\n",
    "headers = {\n",
    "    'Authorization': f\"Bearer {os.getenv('API_KEY')}\",\n",
    "    'Content-Type': 'application/json',\n",
    "}\n",
    "\n",
    "data = {\n",
    "    \"inputs\": {\"input_text\": \"This is a children's book:\"},\n",
    "    \"user\": \"user1\",\n",
    "}\n",
    "\n",
    "response = requests.post(url, headers=headers, data=json.dumps(data))\n",
    "\n",
    "print(response.text)"
   ]
  },
  {
   "cell_type": "code",
   "execution_count": 24,
   "metadata": {
    "vscode": {
     "languageId": "markdown"
    }
   },
   "outputs": [
    {
     "data": {
      "text/plain": [
       "{'task_id': '6f15be60-73dc-447c-b61f-2843af2f3328',\n",
       " 'workflow_run_id': '1c8d7582-582f-40a7-8381-4d96e9dfcacc',\n",
       " 'data': {'id': '1c8d7582-582f-40a7-8381-4d96e9dfcacc',\n",
       "  'workflow_id': '2dd49a0c-55b4-4839-b9ce-b430ac935eff',\n",
       "  'status': 'succeeded',\n",
       "  'outputs': {'final': '这是一本儿童书。'},\n",
       "  'error': None,\n",
       "  'elapsed_time': 10.814749629002108,\n",
       "  'total_tokens': 2801,\n",
       "  'total_steps': 8,\n",
       "  'created_at': 1725491435,\n",
       "  'finished_at': 1725491441}}"
      ]
     },
     "execution_count": 24,
     "metadata": {},
     "output_type": "execute_result"
    }
   ],
   "source": [
    "response_json = json.loads(response.text)\n",
    "response_json"
   ]
  },
  {
   "cell_type": "markdown",
   "metadata": {},
   "source": []
  },
  {
   "cell_type": "code",
   "execution_count": null,
   "metadata": {
    "vscode": {
     "languageId": "markdown"
    }
   },
   "outputs": [],
   "source": []
  }
 ],
 "metadata": {
  "kernelspec": {
   "display_name": "Python (ml-env)",
   "language": "python",
   "name": "test-env"
  },
  "language_info": {
   "codemirror_mode": {
    "name": "ipython",
    "version": 3
   },
   "file_extension": ".py",
   "mimetype": "text/x-python",
   "name": "python",
   "nbconvert_exporter": "python",
   "pygments_lexer": "ipython3",
   "version": "3.9.19"
  }
 },
 "nbformat": 4,
 "nbformat_minor": 2
}
